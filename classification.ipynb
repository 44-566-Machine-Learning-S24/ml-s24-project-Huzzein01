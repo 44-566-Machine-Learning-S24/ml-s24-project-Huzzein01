{
 "cells": [
  {
   "cell_type": "code",
   "execution_count": 16,
   "id": "402fae38-3a3a-46f4-8b32-1ed975229afb",
   "metadata": {},
   "outputs": [],
   "source": [
    "import pandas as pd\n",
    "from sklearn.model_selection import train_test_split\n",
    "\n",
    "# Read the dataset\n",
    "data = pd.read_csv(\"MachineLearningProject1.csv\")\n",
    "\n",
    "X = data[['CarCount', 'BikeCount', 'BusCount', 'TruckCount']]\n",
    "y = data['Traffic Situation']\n",
    "\n",
    "# Split the data into training and testing sets\n",
    "X_train, X_test, y_train, y_test = train_test_split(X, y, test_size=0.2, random_state=42)\n",
    "\n"
   ]
  },
  {
   "cell_type": "markdown",
   "id": "e73aa8b7-919e-4753-8e3b-a8e3e5925b5a",
   "metadata": {},
   "source": [
    "## Explanation of Initial Feature Selection\r\n",
    "We chose these initial features because they include both temporal (time, date, day of the week) and quantitative (car count, bike count, bus count, truck count) aspects of the traffic data. These features are likely to have an impact on the traffic situation, and including them provides a good starting point for the analysis."
   ]
  },
  {
   "cell_type": "code",
   "execution_count": 11,
   "id": "0a60349a-f947-41b4-b04f-84c716256716",
   "metadata": {},
   "outputs": [
    {
     "name": "stdout",
     "output_type": "stream",
     "text": [
      "              precision    recall  f1-score   support\n",
      "\n",
      "       heavy       0.95      0.94      0.94       216\n",
      "        high       0.85      0.79      0.82        81\n",
      "         low       0.96      0.96      0.96       146\n",
      "      normal       0.97      0.98      0.97       748\n",
      "\n",
      "    accuracy                           0.96      1191\n",
      "   macro avg       0.93      0.92      0.92      1191\n",
      "weighted avg       0.96      0.96      0.96      1191\n",
      "\n"
     ]
    }
   ],
   "source": [
    "from sklearn.tree import DecisionTreeClassifier\n",
    "from sklearn.metrics import classification_report\n",
    "\n",
    "# Initialize and train a Decision Tree classifier\n",
    "clf = DecisionTreeClassifier(random_state=42)\n",
    "clf.fit(X_train, y_train)\n",
    "\n",
    "# Predict on the test set\n",
    "y_pred = clf.predict(X_test)\n",
    "\n",
    "# Compute classification metrics\n",
    "metrics = classification_report(y_test, y_pred)\n",
    "print(metrics)\n"
   ]
  },
  {
   "cell_type": "markdown",
   "id": "354fd2e5-8c17-41fc-827c-605fc700ecda",
   "metadata": {},
   "source": [
    "## Comments\n",
    "\n",
    "Interpretation of the classification report metrics and analysis of the model's performance should be included here. Since we're using a simplified model with only numerical features, the comments might focus on the performance of the model based on these features."
   ]
  },
  {
   "cell_type": "code",
   "execution_count": 12,
   "id": "afa843b4-6fde-470b-9620-b45d68b3ca74",
   "metadata": {},
   "outputs": [
    {
     "name": "stdout",
     "output_type": "stream",
     "text": [
      "Metrics for SVM:\n",
      "              precision    recall  f1-score   support\n",
      "\n",
      "       heavy       0.95      0.97      0.96       216\n",
      "        high       0.82      0.58      0.68        81\n",
      "         low       0.91      0.88      0.90       146\n",
      "      normal       0.94      0.97      0.95       748\n",
      "\n",
      "    accuracy                           0.93      1191\n",
      "   macro avg       0.91      0.85      0.87      1191\n",
      "weighted avg       0.93      0.93      0.93      1191\n",
      "\n"
     ]
    }
   ],
   "source": [
    "from sklearn.svm import SVC\n",
    "# Import other classifiers as needed\n",
    "\n",
    "# Initialize and train a Support Vector Machine (SVM) classifier\n",
    "svm_clf = SVC()\n",
    "svm_clf.fit(X_train, y_train)\n",
    "\n",
    "# Predict on the test set for SVM\n",
    "y_pred_svm = svm_clf.predict(X_test)\n",
    "\n",
    "# Compute classification metrics for SVM\n",
    "print(\"Metrics for SVM:\")\n",
    "print(classification_report(y_test, y_pred_svm))\n",
    "\n",
    "# You can try other classifiers similarly\n"
   ]
  },
  {
   "cell_type": "code",
   "execution_count": 14,
   "id": "c6b68062-f9be-420b-b666-133e5d53d866",
   "metadata": {},
   "outputs": [
    {
     "name": "stdout",
     "output_type": "stream",
     "text": [
      "Metrics for Decision Tree:\n",
      "              precision    recall  f1-score   support\n",
      "\n",
      "       heavy       0.95      0.94      0.94       216\n",
      "        high       0.85      0.79      0.82        81\n",
      "         low       0.96      0.96      0.96       146\n",
      "      normal       0.97      0.98      0.97       748\n",
      "\n",
      "    accuracy                           0.96      1191\n",
      "   macro avg       0.93      0.92      0.92      1191\n",
      "weighted avg       0.96      0.96      0.96      1191\n",
      "\n"
     ]
    }
   ],
   "source": [
    "# Compute final evaluation metrics for Decision Tree\n",
    "print(\"Metrics for Decision Tree:\")\n",
    "print(metrics)\n"
   ]
  },
  {
   "cell_type": "markdown",
   "id": "c1f311de-3632-4c68-882b-452322b8bf8b",
   "metadata": {},
   "source": [
    "## Discussion on Parameters and Learnings\n",
    "Discussion on the parameters found, such as the performance metrics, hyperparameters (if tuned), and any insights gained from the analysis, should be included here.\n",
    "\n",
    "You can organize these sections in a Jupyter notebook named \"classification\" and execute each cell to observe the results and insights. Make sure to replace \"MachineLearningProject1.csv\" with the actual file path containing your dataset.\n",
    "\n",
    "Feel free to customize the notebook further according to your requirements or if you encounter specific challenges during the analysis. Let me know if you need any further assistance!"
   ]
  },
  {
   "cell_type": "code",
   "execution_count": null,
   "id": "ad9c4610-0069-4607-ad2d-26cb0a826fc0",
   "metadata": {},
   "outputs": [],
   "source": []
  }
 ],
 "metadata": {
  "kernelspec": {
   "display_name": "Python 3 (ipykernel)",
   "language": "python",
   "name": "python3"
  },
  "language_info": {
   "codemirror_mode": {
    "name": "ipython",
    "version": 3
   },
   "file_extension": ".py",
   "mimetype": "text/x-python",
   "name": "python",
   "nbconvert_exporter": "python",
   "pygments_lexer": "ipython3",
   "version": "3.12.2"
  }
 },
 "nbformat": 4,
 "nbformat_minor": 5
}
