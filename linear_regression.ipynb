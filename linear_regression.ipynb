{
 "cells": [
  {
   "cell_type": "code",
   "execution_count": 10,
   "id": "981f1d8a-77fb-4045-81b9-f7aecfa95853",
   "metadata": {},
   "outputs": [
    {
     "name": "stdout",
     "output_type": "stream",
     "text": [
      "Shape of the dataset: (5952, 9)\n",
      "Columns in the dataset: Index(['Time', 'Date', 'Day of the week', 'CarCount', 'BikeCount', 'BusCount',\n",
      "       'TruckCount', 'Total', 'Traffic Situation'],\n",
      "      dtype='object')\n",
      "First few rows of the dataset:\n",
      "       Time  Date Day of the week  CarCount  BikeCount  BusCount  TruckCount  \\\n",
      "0  12:00 AM    10         Tuesday        13          2         2          24   \n",
      "1  12:15 AM    10         Tuesday        14          1         1          36   \n",
      "2  12:30 AM    10         Tuesday        10          2         2          32   \n",
      "3  12:45 AM    10         Tuesday        10          2         2          36   \n",
      "4   1:00 AM    10         Tuesday        11          2         1          34   \n",
      "\n",
      "   Total Traffic Situation  \n",
      "0     41            normal  \n",
      "1     52            normal  \n",
      "2     46            normal  \n",
      "3     50            normal  \n",
      "4     48            normal  \n",
      "Missing values in the dataset:\n",
      "Time                 0\n",
      "Date                 0\n",
      "Day of the week      0\n",
      "CarCount             0\n",
      "BikeCount            0\n",
      "BusCount             0\n",
      "TruckCount           0\n",
      "Total                0\n",
      "Traffic Situation    0\n",
      "dtype: int64\n"
     ]
    }
   ],
   "source": [
    "import pandas as pd\n",
    "from sklearn.model_selection import train_test_split\n",
    "\n",
    "# Read the dataset into a DataFrame\n",
    "df = pd.read_csv('MachineLearningProject1.csv')\n",
    "\n",
    "# Display basic information about the dataset\n",
    "print(\"Shape of the dataset:\", df.shape)\n",
    "print(\"Columns in the dataset:\", df.columns)\n",
    "\n",
    "# Display the first few rows of the dataset\n",
    "print(\"First few rows of the dataset:\")\n",
    "print(df.head())\n",
    "\n",
    "# Check for missing values\n",
    "print(\"Missing values in the dataset:\")\n",
    "print(df.isnull().sum())\n",
    "\n"
   ]
  },
  {
   "cell_type": "code",
   "execution_count": null,
   "id": "76060f68-c5f4-4a82-ab5c-3557ab2face8",
   "metadata": {},
   "outputs": [],
   "source": []
  },
  {
   "cell_type": "code",
   "execution_count": 19,
   "id": "20a5f2d4-1e74-4eff-aaf7-bc1295814902",
   "metadata": {},
   "outputs": [
    {
     "name": "stdout",
     "output_type": "stream",
     "text": [
      "Training Metrics:\n",
      "Mean Squared Error: 1.6207540816910805e-27\n",
      "R-squared: 1.0\n",
      "\n",
      "Test Metrics:\n",
      "Mean Squared Error: 1.5745849126694571e-27\n",
      "R-squared: 1.0\n"
     ]
    }
   ],
   "source": [
    "from sklearn.linear_model import LinearRegression\n",
    "from sklearn.metrics import mean_squared_error, r2_score\n",
    "\n",
    "# (No cleaning needed in this case as the data seems to be clean)\n",
    "\n",
    "# Create sets\n",
    "X = df[['CarCount', 'BikeCount', 'BusCount', 'TruckCount']]  # Initial features\n",
    "y = df['Total']  # Target feature\n",
    "\n",
    "# Train-test split\n",
    "X_train, X_test, y_train, y_test = train_test_split(X, y, test_size=0.2, random_state=42)\n",
    "\n",
    "# Linear regression on X and y\n",
    "model = LinearRegression()\n",
    "model.fit(X_train, y_train)\n",
    "\n",
    "# Compute metrics\n",
    "y_pred_train = model.predict(X_train)\n",
    "mse_train = mean_squared_error(y_train, y_pred_train)\n",
    "r2_train = r2_score(y_train, y_pred_train)\n",
    "\n",
    "# Print metrics\n",
    "print(\"Training Metrics:\")\n",
    "print(\"Mean Squared Error:\", mse_train)\n",
    "print(\"R-squared:\", r2_train)\n",
    "\n",
    "\n",
    "# Final evaluation with the test set\n",
    "y_pred_test = model.predict(X_test)\n",
    "mse_test = mean_squared_error(y_test, y_pred_test)\n",
    "r2_test = r2_score(y_test, y_pred_test)\n",
    "\n",
    "# Print final metrics\n",
    "print(\"\\nTest Metrics:\")\n",
    "print(\"Mean Squared Error:\", mse_test)\n",
    "print(\"R-squared:\", r2_test)\n",
    "\n"
   ]
  },
  {
   "cell_type": "code",
   "execution_count": null,
   "id": "da928ff4-edbb-4f2a-a8cf-f4c7d10c07ea",
   "metadata": {},
   "outputs": [],
   "source": []
  }
 ],
 "metadata": {
  "kernelspec": {
   "display_name": "Python 3 (ipykernel)",
   "language": "python",
   "name": "python3"
  },
  "language_info": {
   "codemirror_mode": {
    "name": "ipython",
    "version": 3
   },
   "file_extension": ".py",
   "mimetype": "text/x-python",
   "name": "python",
   "nbconvert_exporter": "python",
   "pygments_lexer": "ipython3",
   "version": "3.12.2"
  }
 },
 "nbformat": 4,
 "nbformat_minor": 5
}
