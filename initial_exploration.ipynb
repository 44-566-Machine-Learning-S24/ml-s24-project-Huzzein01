{
 "cells": [
  {
   "cell_type": "code",
   "execution_count": 7,
   "id": "500298e3-d0ba-498c-8c72-f1a00c8632e2",
   "metadata": {},
   "outputs": [
    {
     "name": "stdout",
     "output_type": "stream",
     "text": [
      "       Time  Date Day of the week  CarCount  BikeCount  BusCount  TruckCount  \\\n",
      "0  12:00 AM    10         Tuesday        13          2         2          24   \n",
      "1  12:15 AM    10         Tuesday        14          1         1          36   \n",
      "2  12:30 AM    10         Tuesday        10          2         2          32   \n",
      "3  12:45 AM    10         Tuesday        10          2         2          36   \n",
      "4   1:00 AM    10         Tuesday        11          2         1          34   \n",
      "\n",
      "   Total Traffic Situation  \n",
      "0     41            normal  \n",
      "1     52            normal  \n",
      "2     46            normal  \n",
      "3     50            normal  \n",
      "4     48            normal  \n"
     ]
    }
   ],
   "source": [
    "import pandas as pd\n",
    "\n",
    "df = pd.read_csv(\"MachineLearningProject1.csv\")\n",
    "\n",
    "print(df.head())"
   ]
  },
  {
   "cell_type": "markdown",
   "id": "7c814952-023d-42e3-9ce6-e094e80c7f3b",
   "metadata": {},
   "source": [
    "## Did you discover any Interesting relations? \n",
    "\n",
    "1. First interesting relations in this data set is..."
   ]
  },
  {
   "cell_type": "markdown",
   "id": "31fcfb96-5e92-42c7-af45-f73bba828b5f",
   "metadata": {},
   "source": [
    "## Features to be predicted \n",
    "\n",
    "1. "
   ]
  },
  {
   "cell_type": "code",
   "execution_count": 8,
   "id": "9640db3e-81cc-4183-a629-6091d41cfabf",
   "metadata": {},
   "outputs": [
    {
     "name": "stdout",
     "output_type": "stream",
     "text": [
      "Training set shape (X, y): (4761, 8) (4761,)\n",
      "Test set shape (X, y): (1191, 8) (1191,)\n"
     ]
    }
   ],
   "source": [
    "from sklearn.model_selection import train_test_split\n",
    "X = df.drop(columns=['Traffic Situation'])\n",
    "y = df['Traffic Situation']\n",
    "\n",
    "# Create training and test sets\n",
    "X_train, X_test, y_train, y_test = train_test_split(X, y, test_size=0.2, random_state=42)\n",
    "\n",
    "# Print the shapes of the resulting sets\n",
    "print(\"Training set shape (X, y):\", X_train.shape, y_train.shape)\n",
    "print(\"Test set shape (X, y):\", X_test.shape, y_test.shape)"
   ]
  }
 ],
 "metadata": {
  "kernelspec": {
   "display_name": "Python 3 (ipykernel)",
   "language": "python",
   "name": "python3"
  },
  "language_info": {
   "codemirror_mode": {
    "name": "ipython",
    "version": 3
   },
   "file_extension": ".py",
   "mimetype": "text/x-python",
   "name": "python",
   "nbconvert_exporter": "python",
   "pygments_lexer": "ipython3",
   "version": "3.12.2"
  }
 },
 "nbformat": 4,
 "nbformat_minor": 5
}
